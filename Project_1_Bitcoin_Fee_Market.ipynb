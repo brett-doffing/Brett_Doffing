{
  "nbformat": 4,
  "nbformat_minor": 0,
  "metadata": {
    "colab": {
      "name": "Project_1_Bitcoin_Fee_Market",
      "provenance": []
    },
    "kernelspec": {
      "name": "python3",
      "display_name": "Python 3"
    }
  },
  "cells": [
    {
      "cell_type": "code",
      "metadata": {
        "id": "EHD4czLx5CfK"
      },
      "source": [
        "import pandas as pd \n",
        "import matplotlib.pyplot as plt\n",
        "from scipy import stats\n",
        "import numpy as np"
      ],
      "execution_count": 2,
      "outputs": []
    },
    {
      "cell_type": "code",
      "metadata": {
        "id": "x_AGlhG65Lzq"
      },
      "source": [
        "# Some Bitcoin block data from 2018-11-01 to 2020-08-03\n",
        "data_url = 'https://raw.githubusercontent.com/doffing81/data/main/block_data.csv'\n",
        "df = pd.read_csv(data_url)\n",
        "print(df.shape)\n",
        "df.head()"
      ],
      "execution_count": null,
      "outputs": []
    },
    {
      "cell_type": "code",
      "metadata": {
        "id": "KE-WFD-V5dm9"
      },
      "source": [
        "# Convert timestamp into a datetime variable\n",
        "df['timestamp_d'] = pd.to_datetime(df['timestamp'],unit='s').dt.date\n",
        "\n",
        "# Add a boolean feature that says whether a block's fees are greater than or equal to 1 bitcoin\n",
        "df['gte_1_btc'] = (df['fees'] < 1) == False\n",
        "df['gte_1_btc'] = (df['fees'] >= 1) == True\n",
        "\n",
        "# Add a boolean feature that says whether a block is full based on weight\n",
        "df['full_block'] = (df['weight'] < 3990000) == False\n",
        "df['full_block'] = (df['weight'] >= 3990000) == True\n",
        "df.head()"
      ],
      "execution_count": null,
      "outputs": []
    },
    {
      "cell_type": "code",
      "metadata": {
        "id": "BWpP5czo5fIc"
      },
      "source": [
        "# A scatter plot showing fees over time\n",
        "fig, ax = plt.subplots(figsize=(20,6))\n",
        "\n",
        "fig.suptitle('Block Fees Over Time', fontsize=40)\n",
        "ax.scatter(x = df['timestamp_d'], y = df['fees'], color='orange')\n",
        "\n",
        "ax.set_ylabel('Fees (BTC)', fontsize=30)\n",
        "ax.set_xlabel('Blocks by Date', fontsize=30)\n",
        "ax.tick_params(axis = 'both', labelsize=20)\n",
        "\n",
        "plt.show()"
      ],
      "execution_count": null,
      "outputs": []
    },
    {
      "cell_type": "code",
      "metadata": {
        "id": "GqaloHSf5qSF"
      },
      "source": [
        "# A scatter plot showing size and weight over time\n",
        "fig, axs = plt.subplots(2, figsize=(20,10), sharex=True) # vertical stack\n",
        "\n",
        "fig.suptitle('Block Size and Block Weight over Time', fontsize=40)\n",
        "axs[0].scatter(x = df['timestamp_d'], y = df['size'], color='#a8a8a8')\n",
        "axs[1].scatter(x = df['timestamp_d'], y = df['weight'], color='#696969')\n",
        "\n",
        "axs[0].set_ylabel('Size (MB)', fontsize=30)\n",
        "axs[1].set_ylabel('Weight (MWU)', fontsize=30)\n",
        "axs[1].set_xlabel('Blocks by Date', fontsize=30)\n",
        "axs[0].tick_params(axis = 'both', labelsize=20)\n",
        "axs[1].tick_params(axis = 'both', labelsize=20)\n",
        "\n",
        "plt.show()"
      ],
      "execution_count": null,
      "outputs": []
    },
    {
      "cell_type": "code",
      "metadata": {
        "id": "gvbDiuEo51YG"
      },
      "source": [
        "# A scatter plot showing fees and weight over time\n",
        "fig, axs = plt.subplots(2, figsize=(20,10), sharex=True) # vertical stack\n",
        "\n",
        "fig.suptitle('Block Fees and Block Weight over Time', fontsize=40)\n",
        "axs[0].scatter(x = df['timestamp_d'], y = df['fees'], color='orange')\n",
        "axs[1].scatter(x = df['timestamp_d'], y = df['weight'], color='#696969')\n",
        "\n",
        "axs[0].set_ylabel('Fees (BTC)', fontsize=30)\n",
        "axs[1].set_ylabel('Weight (MWU)', fontsize=30)\n",
        "axs[1].set_xlabel('Blocks by Date', fontsize=30)\n",
        "axs[0].tick_params(axis = 'both', labelsize=20)\n",
        "axs[1].tick_params(axis = 'both', labelsize=20)\n",
        "\n",
        "plt.show()"
      ],
      "execution_count": null,
      "outputs": []
    },
    {
      "cell_type": "code",
      "metadata": {
        "id": "tWGegWGGHzFB"
      },
      "source": [
        "# A normalized contingency table showing percentages of full blocks to blocks\n",
        "# with fees greater than or equal to 1 bitcoin\n",
        "pd.crosstab(df['full_block'], df['gte_1_btc'], normalize=True)"
      ],
      "execution_count": null,
      "outputs": []
    },
    {
      "cell_type": "code",
      "metadata": {
        "id": "Mk-2hEfm6HBt"
      },
      "source": [
        "# Creating sample sets to compare:\n",
        "# January through the end of March &\n",
        "# April through the end of June\n",
        "\n",
        "# Timestamps\n",
        "# 1546300800 = JAN\n",
        "# 1554076800 = APR\n",
        "# 1561939200 = JUL\n",
        "jan_mar = df.loc[(df['timestamp'] >= 1546300800) & (df['timestamp'] < 1554076800)]\n",
        "apr_jun = df.loc[(df['timestamp'] >= 1554076800) & (df['timestamp'] < 1561939200)]"
      ],
      "execution_count": 17,
      "outputs": []
    },
    {
      "cell_type": "code",
      "metadata": {
        "id": "NGwe5dmJVzlE"
      },
      "source": [
        "# Print the relevant values of the samples\n",
        "print(jan_mar['fees'].median())\n",
        "print()\n",
        "print(apr_jun['fees'].median())\n",
        "print()\n",
        "print(jan_mar['full_block'].value_counts())\n",
        "print()\n",
        "print(apr_jun['full_block'].value_counts())\n",
        "print()"
      ],
      "execution_count": null,
      "outputs": []
    },
    {
      "cell_type": "code",
      "metadata": {
        "id": "-TzYsKpETnO6"
      },
      "source": [
        "# Creating a table for the sampled timeframes\n",
        "fb_df = pd.DataFrame({'period' : ['jan-mar-2019', 'apr-jun-2019'], 'full_blocks' : [2813, 4127], 'non_full_blocks' : [1326, 257], 'percent_full' : [67.9, 94.1], 'median_fee' : [0.147, 0.727]})\n",
        "fb_df"
      ],
      "execution_count": null,
      "outputs": []
    },
    {
      "cell_type": "code",
      "metadata": {
        "id": "RjGwgk5DU7_x"
      },
      "source": [
        "# A visualization of the distribution between two samples \n",
        "fig, axs = plt.subplots(2, figsize=(20,10), sharex=True) # vertical stack\n",
        "\n",
        "fig.suptitle('Fee Distribution - Sample Comparison', fontsize=40)\n",
        "axs[0].hist(jan_mar['fees'], color='#c8ff00')\n",
        "axs[1].hist(apr_jun['fees'], color='#40ff00')\n",
        "\n",
        "axs[0].set_ylabel('Jan-Mar', fontsize=30)\n",
        "axs[1].set_ylabel('Apr-Jun', fontsize=30)\n",
        "axs[1].set_xlabel('Bitcoin Fees', fontsize=30)\n",
        "\n",
        "axs[0].tick_params(axis = 'both', labelsize=20)\n",
        "axs[1].tick_params(axis = 'both', labelsize=20)\n",
        "\n",
        "plt.show()"
      ],
      "execution_count": null,
      "outputs": []
    }
  ]
}